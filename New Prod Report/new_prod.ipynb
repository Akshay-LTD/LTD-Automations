{
 "cells": [
  {
   "cell_type": "code",
   "execution_count": 1,
   "metadata": {},
   "outputs": [],
   "source": [
    "import pandas as pd\n",
    "from datetime import date, timedelta\n",
    "\n",
    "def process(df, new_product):\n",
    "    date_added = date.today() - timedelta(days = 90)\n",
    "    new_product['Date Added'] = pd.to_datetime(new_product['Date Added'], format=\"%d/%m/%Y\")\n",
    "    new_sku = new_product[new_product['Date Added'] >= str(date_added)]['Code']\n",
    "\n",
    "    df = df[df.product_code_or_sku.isin(list(new_sku))].reset_index(drop=True)\n",
    "    df['Conversion Rate'] = df['orders'] / df['visits'] * 100\n",
    "\n",
    "    return df\n",
    "\n",
    "def write(df_au, df_uk, file):\n",
    "    writer = pd.ExcelWriter(file, engine='xlsxwriter')\n",
    "    df_au.to_excel(writer, sheet_name='AU', index=False)\n",
    "    df_uk.to_excel(writer, sheet_name='UK', index=False)\n",
    "\n",
    "    writer.save()\n",
    "\n",
    "# AUS\n",
    "df = pd.read_csv('Merchandising Products AU.csv')\n",
    "new_product_au = pd.read_csv('products AU.csv')\n",
    "df_au = process(df, new_product_au)\n",
    "\n",
    "# UK\n",
    "df = pd.read_csv('Merchandising Products UK.csv')\n",
    "new_product_uk = pd.read_csv('products UK.csv')\n",
    "df_uk = process(df, new_product_uk)\n",
    "\n",
    "when = \"19 - 25 Feb\"\n",
    "write(df_au, df_uk, f\"report/New Prod ({when}).xlsx\")"
   ]
  }
 ],
 "metadata": {
  "interpreter": {
   "hash": "4951976828615a03b5116c4f9ae0547d9297300d617e05df2c1437ae5e1c2116"
  },
  "kernelspec": {
   "display_name": "Python 3.10.2 64-bit",
   "language": "python",
   "name": "python3"
  },
  "language_info": {
   "codemirror_mode": {
    "name": "ipython",
    "version": 3
   },
   "file_extension": ".py",
   "mimetype": "text/x-python",
   "name": "python",
   "nbconvert_exporter": "python",
   "pygments_lexer": "ipython3",
   "version": "3.10.2"
  },
  "orig_nbformat": 4
 },
 "nbformat": 4,
 "nbformat_minor": 2
}
